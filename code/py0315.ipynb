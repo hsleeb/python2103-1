{
 "cells": [
  {
   "cell_type": "markdown",
   "id": "upper-zimbabwe",
   "metadata": {},
   "source": [
    "# Day04 : 제어문의 활용"
   ]
  },
  {
   "cell_type": "markdown",
   "id": "worth-favor",
   "metadata": {},
   "source": [
    "## If 제어문의 형식\n",
    "```python\n",
    "if 조건식 :\n",
    "    실행할문장\n",
    "```"
   ]
  },
  {
   "cell_type": "code",
   "execution_count": 2,
   "id": "scheduled-gazette",
   "metadata": {},
   "outputs": [
    {
     "name": "stdout",
     "output_type": "stream",
     "text": [
      "숫자를 입력하세요.22\n",
      "짝수입니다.\n",
      "프로그램을 종료합니다.\n"
     ]
    }
   ],
   "source": [
    "# 홀수 짝수 판단\n",
    "# 숫자를 2로 나눈 나머지가 0이면 짝수, 아니면 홀수\n",
    "number = int(input(\"숫자를 입력하세요.\"))\n",
    "if (number % 2) == 0 :\n",
    "    pass\n",
    "    # print(\"짝수입니다.\")\n",
    "else :\n",
    "    print(\"홀수입니다.\")\n",
    "print(\"프로그램을 종료합니다.\")"
   ]
  },
  {
   "cell_type": "code",
   "execution_count": 4,
   "id": "coordinate-break",
   "metadata": {},
   "outputs": [
    {
     "name": "stdout",
     "output_type": "stream",
     "text": [
      "성별을 입력하세요(M:남자/F:여자) : F\n",
      "나이를 입력하세요. : 70\n",
      "40대 이상 여자\n"
     ]
    }
   ],
   "source": [
    "# 성별과 연령을 입력받아 판단하는 프로그램을 작성하시오.\n",
    "gender = input(\"성별을 입력하세요(M:남자/F:여자) : \")\n",
    "age = int(input(\"나이를 입력하세요. : \"))\n",
    "if gender == 'M' or gender == 'm' :\n",
    "    if age >= 40 :\n",
    "        print(\"40대 이상 남자\")\n",
    "    elif age >= 30 : \n",
    "        print(\"30대 남자\")\n",
    "    elif age >= 20 :\n",
    "        print(\"20대 남자\")\n",
    "    else:\n",
    "        print(\"10대 이하 남자\")\n",
    "else :\n",
    "    if age >= 40 :\n",
    "        print(\"40대 이상 여자\")\n",
    "    elif age >= 30 : \n",
    "        print(\"30대 여자\")\n",
    "    elif age >= 20 :\n",
    "        print(\"20대 여자\")\n",
    "    else:\n",
    "        print(\"10대 이하 여자\")   "
   ]
  },
  {
   "cell_type": "code",
   "execution_count": 18,
   "id": "virtual-newman",
   "metadata": {},
   "outputs": [
    {
     "name": "stdout",
     "output_type": "stream",
     "text": [
      "국어, 산수, 사회 3과목 점수 : 100,85,90\n",
      "총점:  275 평균: 91.7 등급:A   \n"
     ]
    }
   ],
   "source": [
    "# 국어, 산수, 사회 세 과목의 점수를 입력받아 총점과 평균을 구하고, \n",
    "# 평균이 90점 이상이면  A등급을, 80이상이면 B등급을 , 70이상이면 C등급을\n",
    "# 그 외, 즉 69이하이면 F 등급을 부여하는 프로그램을 작성하시오.\n",
    "\n",
    "# (알고리즘) ===> Pseudo Code 의사코드 ; \n",
    "# 세과목의 점수를 입력받는다.\n",
    "# korea = int( input(\"국어 점수 : \") )\n",
    "# mathmatics = int( input(\"산수 점수 : \") )\n",
    "# society = int( input(\"사회 점수 : \") )\n",
    "korea, mathmatics, society = map(int,input(\"국어, 산수, 사회 3과목 점수 : \").split(\",\"))\n",
    "#korea, mathmatics, society = 100, 85, 90\n",
    "\n",
    "# 총점을 구한다.\n",
    "total = korea + mathmatics + society\n",
    "# 평균을 구한다.\n",
    "average = total / 3\n",
    "# 평균이 90이상이면 A라고 한다.\n",
    "if average >= 90 :\n",
    "    grade = 'A'\n",
    "# 그게 아니라 80이상이면 B라고 한다.\n",
    "elif average >=80:\n",
    "    grade = 'B'\n",
    "# 그게 아니라 70이상이면 C라고 한다.\n",
    "elif average >= 70:\n",
    "    grade = 'C'\n",
    "# 그것도 아니면 F라고 한다.\n",
    "else :\n",
    "    grade = 'F'\n",
    "# 성적을 출력한다.\n",
    "# print(grade)\n",
    "# 총점, 평균, 성적을 출력한다.\n",
    "print(\"총점:{0:5d} 평균:{1:5.1f} 등급:{2:3s} \"\\\n",
    ".format(total, average, grade))"
   ]
  },
  {
   "cell_type": "code",
   "execution_count": 22,
   "id": "portable-forth",
   "metadata": {},
   "outputs": [
    {
     "name": "stdout",
     "output_type": "stream",
     "text": [
      "탑승자의 나이 : 5\n",
      "버스요금 면제대상입니다.\n",
      "9000\n"
     ]
    }
   ],
   "source": [
    "# 시내버스 요금은 다음과 같다. \n",
    "# 어린이( 7세 이상, 12세 이하) : 650원\n",
    "# 청소년(13세 이상, 18세 이하) : 1,050원\n",
    "# 어른(19세 이상) : 1,250원\n",
    "# 현재 교통카드 잔액 : 9,000원\n",
    "# 탑승자의 나이를 입력받아 카드 잔액을 출력하는 프로그램을 작성하시오.\n",
    "# Pseudo Code -> Python code\n",
    "\n",
    "# Pseudo Code\n",
    "# 나이를 입력받는다.\n",
    "age = int(input(\"탑승자의 나이 : \"))\n",
    "# 나이가 7세이상이고, 12세 이하라면 :\n",
    "if age >= 7 and age <= 12:\n",
    "    busfee = 650  #   버스요금 = 650원\n",
    "# 그렇지 않고 나이가 13세이상이고, 18세 이하라면 :\n",
    "elif age >= 13 and age <= 18:\n",
    "    busfee = 1050 #   버스요금 = 1,050원\n",
    "# 그렇지 않고 나이가 19세 이상이면 :\n",
    "elif age >= 19 :\n",
    "    busfee = 1250 #   버스요금 = 1,250원\n",
    "else : \n",
    "    print(\"버스요금 면제대상입니다.\")\n",
    "    busfee = 0\n",
    "# 카드잔액(9,000원 - 버스요금) 출력\n",
    "print(9000-busfee)"
   ]
  },
  {
   "cell_type": "code",
   "execution_count": 32,
   "id": "cellular-brake",
   "metadata": {},
   "outputs": [
    {
     "name": "stdout",
     "output_type": "stream",
     "text": [
      "for문을 공부중입니다.  i값 :  11\n",
      "for문을 공부중입니다.  i값 :  9\n",
      "for문을 공부중입니다.  i값 :  7\n",
      "for문을 공부중입니다.  i값 :  5\n",
      "for문을 공부중입니다.  i값 :  3\n",
      "for문을 공부중입니다.  i값 :  1\n"
     ]
    }
   ],
   "source": [
    "for i in range(11,0, -2):   # [0, 1, 2]\n",
    "    print(\"for문을 공부중입니다.\", \" i값 : \", i)\n",
    "    \n",
    "# # \n",
    "# i = 0\n",
    "# label:repeat\n",
    "# if i < 3 :\n",
    "#     print(\"for문을 공부중입니다.\")\n",
    "#     i = i + 1\n",
    "#     goto repeat"
   ]
  },
  {
   "cell_type": "code",
   "execution_count": 35,
   "id": "charged-stake",
   "metadata": {},
   "outputs": [
    {
     "name": "stdout",
     "output_type": "stream",
     "text": [
      "1부터 10까지의 합 : 55\n"
     ]
    }
   ],
   "source": [
    "# 1부터 10까지의 합계를 구하는 프로그램을 작성하세요.\n",
    "sum = 0\n",
    "for number in range(1, 11):\n",
    "    sum += number\n",
    "print(\"1부터 10까지의 합 : %d\" % sum)\n"
   ]
  },
  {
   "cell_type": "code",
   "execution_count": 37,
   "id": "metropolitan-video",
   "metadata": {},
   "outputs": [
    {
     "name": "stdout",
     "output_type": "stream",
     "text": [
      "1부터 10까지 수 중에서 3의 배수의 합 : 18\n"
     ]
    }
   ],
   "source": [
    "# 1부터 10까지의 숫자 중 3의 배수의 합계를 구하는 프로그램을 작성하세요.\n",
    "sum = 0\n",
    "for number in range(11):  #[0 ~ 10]\n",
    "    if number % 3 == 0 :\n",
    "        sum += number\n",
    "print(\"1부터 10까지 수 중에서 3의 배수의 합 : %d\" % sum)"
   ]
  },
  {
   "cell_type": "code",
   "execution_count": 46,
   "id": "premium-alexander",
   "metadata": {},
   "outputs": [
    {
     "name": "stdout",
     "output_type": "stream",
     "text": [
      "a\n",
      "e\n",
      "r\n",
      "o\n",
      "K\n"
     ]
    }
   ],
   "source": [
    "a = 'Korea' \n",
    "for datavalue in reversed(a):\n",
    "    print(datavalue)"
   ]
  },
  {
   "cell_type": "code",
   "execution_count": 49,
   "id": "empty-examination",
   "metadata": {},
   "outputs": [
    {
     "name": "stdout",
     "output_type": "stream",
     "text": [
      "짝수의 합계 : 30, 홀수의 합계 : 25\n"
     ]
    }
   ],
   "source": [
    "# while loop을 이용, 1부터 10까지의 숫자의 합계를 \n",
    "# 홀수의 합과 짝수의 합으로 구분하여 구하시오.\n",
    "number = 1\n",
    "oddsum = 0; evensum = 0\n",
    "while number < 11 :\n",
    "    if number % 2 == 0 :\n",
    "        evensum += number\n",
    "    else :\n",
    "        oddsum += number\n",
    "    number += 1\n",
    "print(\"짝수의 합계 : %d, 홀수의 합계 : %d\" % (evensum, oddsum)  )"
   ]
  }
 ],
 "metadata": {
  "kernelspec": {
   "display_name": "Python 3",
   "language": "python",
   "name": "python3"
  },
  "language_info": {
   "codemirror_mode": {
    "name": "ipython",
    "version": 3
   },
   "file_extension": ".py",
   "mimetype": "text/x-python",
   "name": "python",
   "nbconvert_exporter": "python",
   "pygments_lexer": "ipython3",
   "version": "3.9.2"
  }
 },
 "nbformat": 4,
 "nbformat_minor": 5
}
