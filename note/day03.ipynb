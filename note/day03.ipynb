{
 "cells": [
  {
   "cell_type": "markdown",
   "metadata": {},
   "source": [
    "#### Day 03, 2021-03-11(Thu) Notes and Practices\n",
    "# 기본자료구조 / 제어문\n",
    "#### 학습목표 :  파이썬 기본자료구조의 이해와 활용\n",
    "> 1. 리스트의 생성과 활용\n",
    "> 2. 튜플의 생성과 활용\n",
    "> 3. 딕셔너리의 생성과 활용\n",
    "> 4. 세트의 생성과 활용\n",
    "#### 학습목표 :  제어문의 이해와 활용\n",
    "> 5. 조건제어문(if / if~ else / if elif... else)\n",
    "> 6. 반복제어문(for)\n",
    "> 7. 반복제어문(while)"
   ]
  },
  {
   "cell_type": "markdown",
   "metadata": {},
   "source": [
    "## 1. 파이썬 기본 자료구조의 이해와 활용\n",
    "파이썬은 정수, 실수, 문자열, 부울과 같은 기본 데이터 타입 외에 기본 타입들이 결합된 리스트(list), 튜플(tuple), 딕셔너리(dictionary), 세트(set) 등의 자료구조를 제공한다. "
   ]
  },
  {
   "cell_type": "markdown",
   "metadata": {},
   "source": [
    "### 1.1 리스트(list)의 생성과 활용\n",
    "리스트는 말 그대로 목록이라는 뜻이며, 여러 개의 값을 일렬로 늘어놓은 형태이다.   \n",
    "- 리스트 만들기\n",
    "변수에 값을 저장할 때 대괄호\\[ \\]로 묵어주면 리스크가 되며 각 값은 ,(콤마)로 구분해준다.  \n",
    "리스트 = \\[값, 값, 값\\]\n",
    "예를 들어 숫자가 3개 들어 있는 리스트를 만들고 타입을 확인해보자.\n",
    "```python\n",
    "lst_a = [1, 2,3]\n",
    "print(lst_a)\n",
    "type(lst_a)\n",
    "```\n",
    "리스트에 저장된 각 값은 요소(element)라고 부른다."
   ]
  },
  {
   "cell_type": "code",
   "execution_count": 1,
   "metadata": {},
   "outputs": [],
   "source": []
  },
  {
   "cell_type": "markdown",
   "metadata": {},
   "source": [
    "- 리스트에 여러가지 자료형 동시 저장하기\n",
    "리스트는 문자열, 정수, 실수, 불 등 모든 자료형을 혼합하여 저장할 수 있다. 리스트에 여러 가지 자료형을 사용하여 관련 정보를 하나로 묶기 좋다.\n",
    "```python\n",
    "person = ['홍길동', 19, 181.5, True]\n",
    "print(person)\n",
    "```"
   ]
  },
  {
   "cell_type": "code",
   "execution_count": null,
   "metadata": {},
   "outputs": [],
   "source": []
  },
  {
   "cell_type": "markdown",
   "metadata": {},
   "source": [
    "- 빈 리스트 만들기\n",
    "빈 리스트를 만들 때는 \\[ \\]만 지정하거나 list()를 사용한다.  \n",
    "리스트 = \\[ \\]\n",
    "리스트 = list()\n",
    "```python\n",
    "lst_a = [];type(lst_a)\n",
    "lst_b = list();type(lst_b)\n",
    "```"
   ]
  },
  {
   "cell_type": "code",
   "execution_count": null,
   "metadata": {},
   "outputs": [],
   "source": []
  },
  {
   "cell_type": "markdown",
   "metadata": {},
   "source": [
    "- range를 사용하여 리스트 만들기  \n",
    "range는 연속된 숫자를 생성하는데 range에 10을 지정하면 0부터 9까지 숫자를 생성한다.  \n",
    "  + range(횟수)  \n",
    "  + range(시작수, 끝수)  \n",
    "  \n",
    "```python\n",
    "range(10)\n",
    "range(0,10)\n",
    "```\n",
    "list()에 range를 넣어서 리스트를 생성할 수 있다.\n",
    "```python\n",
    "lst_a = list(range(10))\n",
    "print(lst_a)\n",
    "```"
   ]
  },
  {
   "cell_type": "code",
   "execution_count": null,
   "metadata": {},
   "outputs": [],
   "source": []
  },
  {
   "cell_type": "code",
   "execution_count": null,
   "metadata": {},
   "outputs": [],
   "source": []
  },
  {
   "cell_type": "markdown",
   "metadata": {},
   "source": [
    "### 1.2 튜플의 생성과 활용"
   ]
  },
  {
   "cell_type": "markdown",
   "metadata": {},
   "source": [
    "### 1.3 딕셔너리의 생성과 활용"
   ]
  },
  {
   "cell_type": "markdown",
   "metadata": {},
   "source": [
    "### 1.4 세트의 생성과 활용"
   ]
  },
  {
   "cell_type": "markdown",
   "metadata": {},
   "source": [
    "## 2. 제어문의 이해와 활용"
   ]
  },
  {
   "cell_type": "markdown",
   "metadata": {},
   "source": [
    "### 2.1 if 조건 제어문"
   ]
  },
  {
   "cell_type": "markdown",
   "metadata": {},
   "source": [
    "### 2.2 for 반복제어문"
   ]
  },
  {
   "cell_type": "markdown",
   "metadata": {},
   "source": [
    "### 2.3 while 반복 제어문"
   ]
  }
 ],
 "metadata": {
  "kernelspec": {
   "display_name": "Python 3",
   "language": "python",
   "name": "python3"
  },
  "language_info": {
   "codemirror_mode": {
    "name": "ipython",
    "version": 3
   },
   "file_extension": ".py",
   "mimetype": "text/x-python",
   "name": "python",
   "nbconvert_exporter": "python",
   "pygments_lexer": "ipython3",
   "version": "3.9.0"
  }
 },
 "nbformat": 4,
 "nbformat_minor": 4
}
