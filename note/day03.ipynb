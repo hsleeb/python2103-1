{
 "cells": [
  {
   "cell_type": "markdown",
   "metadata": {},
   "source": [
    "#### Day 03, 2021-03-11(Thu) Notes and Practices\n",
    "# 제어문의 이해와 활용\n",
    "#### 학습목표 :  제어문의 이해와 활용\n",
    "> 1. 조건제어문(if / if~ else / if elif... else)\n",
    "> 2. 반복제어문(for)\n",
    "> 3. 반복제어문(while)"
   ]
  },
  {
   "cell_type": "markdown",
   "metadata": {},
   "source": [
    "파이썬 프로그램에서는 if구문과 for, while 구문을 제공한다. 다른 프로그래밍 언어와 비슷한 점도 있으나 뚜렷한 차이도 있으니 이를 구별하여 기억하도록 한다."
   ]
  },
  {
   "cell_type": "markdown",
   "metadata": {},
   "source": [
    "## 1. if 조건 제어문\n",
    "### if문\n",
    "가장 단순한 형태의 if문은 참일 때는 실행하고, 거짓일 때는 아무것도 실행하지 않는다.  \n",
    "```python\n",
    "a = int(input(\"임의 숫자 입력 : \")\n",
    "if a < 100:\n",
    "    print(\"100보다 작은 수\")\n",
    "print(\"프로그램 종료\")\n",
    "```\n",
    "\n",
    "### if~else문\n",
    "참일 때 실행할 문장과 거짓일 때 실행할 문장을 다르게 할 때 사용.\n",
    "```python\n",
    "a = int(input(\"임의 숫자 입력 : \")\n",
    "if a < 100:\n",
    "    print(\"100보다 작은 수\")\n",
    "else :\n",
    "    print(\"100보다 큰 수\")   \n",
    "print(\"프로그램 종료\")\n",
    "```\n",
    "\n",
    "### if~elif문   \n",
    "동일한 형태의 조건 비교를 위한 값을 다르게 여러 차례 비교할 때\n",
    "\n",
    "### 중첩 if문  \n",
    "조건을 검사하는 과정이 2번 이상일 때.   \n",
    "예를 들어 성별 연령대별 학생의 수를 카운트 한다면 다음과 같이 코딩할 수 있을 것이다.\n",
    "```python\n",
    "genger = input(\"성별을 입력하세요(M:남자/F:여자) : \")\n",
    "age = int(input(\"나이를 입력하세요. : \"))\n",
    "if gender == 'M' or gender == 'm' :\n",
    "    if age >= 40 :\n",
    "        print(\"40대 이상 남자\")\n",
    "    elif age >= 30 : \n",
    "        print(\"30대 남자\")\n",
    "    elif age >= 20 :\n",
    "        print(\"20대 남자\")\n",
    "    else:\n",
    "        print(\"10대 이하 남자\")\n",
    "else :\n",
    "    if age >= 40 :\n",
    "        print(\"40대 이상 여자\")\n",
    "    elif age >= 30 : \n",
    "        print(\"30대 여자\")\n",
    "    elif age >= 20 :\n",
    "        print(\"20대 여자\")\n",
    "    else:\n",
    "        print(\"10대 이하 여자\")    \n",
    "              \n",
    "```"
   ]
  },
  {
   "cell_type": "code",
   "execution_count": null,
   "metadata": {},
   "outputs": [],
   "source": []
  },
  {
   "cell_type": "markdown",
   "metadata": {},
   "source": [
    "### 삼항 연산자를 사용한 if문  \n",
    "```python\n",
    "score = 55\n",
    "result = ''\n",
    "if score >= 60:\n",
    "    result = '합격'\n",
    "else :\n",
    "    result = '불합격'\n",
    "print(res)\n",
    "```\n",
    "다음과 같이 삼항 연산자를 사용해 한 줄로 줄일 수 있다.\n",
    "```python\n",
    "score = 50\n",
    "result = ''\n",
    "result = '합격' if score >= 60 else '불합격'\n",
    "print(result)\n",
    "```"
   ]
  },
  {
   "cell_type": "code",
   "execution_count": null,
   "metadata": {},
   "outputs": [],
   "source": []
  },
  {
   "cell_type": "markdown",
   "metadata": {},
   "source": [
    "## 2 for 반복제어문\n",
    "### for문의 기본 형식\n",
    "```python\n",
    "for 변수 in range(시작값, 끝값+1, 증가값):\n",
    "    반복문\n",
    "```\n",
    "range()함수는 지정된 범위의 값을 반환. range(0,3,1)은 0에서 시작해 2까지 1씩 증가하는 값을 반환한다. 세번재 증가값은 생략하면 1로 인식한다.\n",
    "```python\n",
    "   for i in range(0,3,1):\n",
    "        print(\"for문을 공부중입니다.\")\n",
    "```\n",
    "range(0,3,1)은 [0,1,2]와 같다. "
   ]
  },
  {
   "cell_type": "code",
   "execution_count": null,
   "metadata": {},
   "outputs": [],
   "source": []
  },
  {
   "cell_type": "markdown",
   "metadata": {},
   "source": [
    "### 중첩 for문  \n",
    "```python\n",
    "for i in range(0,3,1):\n",
    "    for k in range(0,2,1):\n",
    "        print(\"파이썬 중첩(i값 : %d, 값:%d)\"%(i,k))\n",
    "```"
   ]
  },
  {
   "cell_type": "markdown",
   "metadata": {},
   "source": [
    "## 3. while 반복 제어문\n",
    "### while문의 기본형식\n",
    "```python\n",
    "변수 = 시작값\n",
    "while 변수 < 끝값 :\n",
    "    이 부분을 반복\n",
    "    변수 = 변수 + 증가값\n",
    "```"
   ]
  },
  {
   "cell_type": "code",
   "execution_count": null,
   "metadata": {},
   "outputs": [],
   "source": []
  },
  {
   "cell_type": "markdown",
   "metadata": {},
   "source": [
    "### 무한 루프 while문\n",
    "```python\n",
    "while True:\n",
    "    반복할문장\n",
    "```"
   ]
  },
  {
   "cell_type": "code",
   "execution_count": null,
   "metadata": {},
   "outputs": [],
   "source": []
  },
  {
   "cell_type": "markdown",
   "metadata": {},
   "source": [
    "### break문 \n",
    "반복문에서 break문을 만나면 무조건 반복문을 벗어난다.\n",
    "```python\n",
    "for i in range(1,100):\n",
    "    print(\"for문을 %d번 실행했습니다.\" % i)\n",
    "    break\n",
    "```\n",
    "\n",
    "### continue문\n",
    "continue를 만나면 블록의 남은 부분을 무조건 건너뛰고 반복문의 처음으로 다시 돌아간다. 즉, 반복문을 처음부터 다시 수행한다.\n",
    "```python\n",
    "sum, i = 0, 0\n",
    "for i in range(1,101):\n",
    "    if i % 3 == 0:\n",
    "        continue\n",
    "    sum += i\n",
    "print(\"1~100의 합계(3의 배수 제외) : %d\" % sum)\n",
    "```"
   ]
  },
  {
   "cell_type": "code",
   "execution_count": null,
   "metadata": {},
   "outputs": [],
   "source": []
  }
 ],
 "metadata": {
  "kernelspec": {
   "display_name": "Python 3",
   "language": "python",
   "name": "python3"
  },
  "language_info": {
   "codemirror_mode": {
    "name": "ipython",
    "version": 3
   },
   "file_extension": ".py",
   "mimetype": "text/x-python",
   "name": "python",
   "nbconvert_exporter": "python",
   "pygments_lexer": "ipython3",
   "version": "3.9.0"
  }
 },
 "nbformat": 4,
 "nbformat_minor": 4
}
