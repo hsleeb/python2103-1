{
 "cells": [
  {
   "cell_type": "markdown",
   "metadata": {},
   "source": [
    "#### Day 02, 2021-03-09(Tue) Notes and Practices\n",
    "# 파이썬 기본 문법과 입출력\n",
    "#### 학습목표 :  파이썬 프로그램 작성 및 실행 방법\n",
    "> 1. 파이썬의 특징\n",
    "> 2. 파이썬의 기본문법\n",
    "> 3. 파이썬 기본 입출력 함수\n",
    "> 4. 자료형과 연산자 : 숫자형, 문자열"
   ]
  },
  {
   "cell_type": "markdown",
   "metadata": {},
   "source": [
    "## 1. 파이썬의 특징\n",
    "- [파이썬 언어의 특징](https://jjinfotech.tistory.com/21)  \n",
    "- [파이썬 언어의 특징](https://digital-play.tistory.com/44)"
   ]
  },
  {
   "cell_type": "markdown",
   "metadata": {},
   "source": [
    "## 2. 파이썬의 기본문법\n",
    "### 2.1 세미콜론\n",
    "C, Java는 구문이 끝날 때 ;(세미콜론)을 붙여야만 한다. 그러나, 파이썬은 세미콜론을 붙이지 않는다. 단, 붙여도 문법 에러는 발생하지 않는다. 보통 한 줄에 여러 구문을 사용할 때 세미콜론으로 구분한다.\n",
    "```python\n",
    "print('Hello, Korea IT Academy')\n",
    "print('Hello');print('Korea IT Academy')\n",
    "```"
   ]
  },
  {
   "cell_type": "code",
   "execution_count": null,
   "metadata": {},
   "outputs": [],
   "source": []
  },
  {
   "cell_type": "markdown",
   "metadata": {},
   "source": [
    "### 2.2 주석\n",
    "- 프로그램의 실행에는 아무런 영향을 주지 않으며, 프로그램의 이해를 돕기 위해 작성하는 부분을 주석comment라고 함. \n",
    "- 보통 주석은 코드에 대한 자세한 설명을 작성하거나, 특정 코드를 임시로 사용하지 않도록 할 때 사용.   \n",
    "- 한줄 주석 : 코드의 맨 앞에 #을 사용, 해당 줄을 모두 주석 처리 또는 코드 뒤에 #으로 주석 처리하여 뒤에 있는 부분 주석처리함.\n",
    "\n",
    "```python\n",
    "#Hello, Korea IT Academy 출력\n",
    "print('Hello, Korea IT Academy')\n",
    "a = 1 + 2 # 더하기\n",
    "```\n",
    "- 블록주석 : 각 줄마다 맨 앞에 #을 넣어주고, 코드를 읽기 쉽도록 # 뒤에 공백을 한 칸 띄운다.\n",
    "```python\n",
    "# 더하기\n",
    "# a = 1 + 2\n",
    "# print('Hello, Korea IT Academy')\n",
    "```"
   ]
  },
  {
   "cell_type": "code",
   "execution_count": null,
   "metadata": {},
   "outputs": [],
   "source": []
  },
  {
   "cell_type": "markdown",
   "metadata": {},
   "source": [
    "### 2.3 들여쓰기★★★\n",
    "일정한 간격을 띄워서 작성하는 방법이다. 특히 파이썬은 들여쓰기 자체가 문법이다.   \n",
    "예를 들어 if의 다음 줄은 항상 들여쓰기를 해야 한다. 만약 들여쓰기를 하지 않으면 문법 에러이므로 코드가 실행되지 않는다.\n",
    "```python\n",
    "if a == 10:\n",
    "print('10입니다.')    # 들여쓰기 문법 에러\n",
    "```\n",
    "올바른 코드는 다음과 같이 if 다음 줄은 들여쓰기를 해주어야 한다.  \n",
    "```python\n",
    "if a == 10:\n",
    "     print('10입니다.')\n",
    "```\n",
    "※ 파이썬은 공백 2칸, 공백 4칸, 탭 문자 등을 각각 사용해도 동작이 잘 된다.   \n",
    "하지만 [파이썬 코딩 스타일 가이드(PEP 8)](https://www.python.org/dev/peps/pep-0008/)에서는 공백 4칸으로 규정하고 있으니 공백 4칸을 사용하는 것이 좋겠다."
   ]
  },
  {
   "cell_type": "code",
   "execution_count": null,
   "metadata": {},
   "outputs": [],
   "source": []
  },
  {
   "cell_type": "markdown",
   "metadata": {},
   "source": [
    "### 2.4 코드 블록\n",
    "코드 블록은 특정한 동작을 위해서 코드가 모여 있는 상태를 뜻하며 파이썬은 들여쓰기를 기준으로 코드 블록을 구성한다.  \n",
    "```python\n",
    "if a == 10:\n",
    "      print('10')\n",
    "      print('입니다.')\n",
    "```\n",
    "단, 같은 블록은 들여쓰기 칸 수가 같아야 하고, 공백과 탭 문자를 섞어쓰면 안된다."
   ]
  },
  {
   "cell_type": "code",
   "execution_count": null,
   "metadata": {},
   "outputs": [],
   "source": []
  },
  {
   "cell_type": "markdown",
   "metadata": {},
   "source": [
    "## 3. 파이썬의 기본 입출력 함수\n",
    "### 3.1 변수\n",
    "변수Variable : 데이터를 저장할 수 있는 메모리 공간의 이름. 프로그래머가 쉽게 데이터에 액세스 할 수 있도록 특정 메모리에 이름을 붙인 것이며, 내용을 다른 값으로 갱신할 수 있다.  \n",
    "```python\n",
    "x = 10    # x:변수이름, =: 할당, 10: 값.   값 10을 x라는 변수에 할당함.\n",
    "```  \n",
    "  \n",
    "변수 이름은 원하는 대로 지으면 되지만 다음과 같은 규칙을 지켜야 한다.\n",
    "- 영문 문자와 숫자를 사용할 수 있다.\n",
    "- 대소문자를 구분한다.\n",
    "- 문자부터 시작해야 하며 숫자부터 시작하면 안된다.\n",
    "- _(밑줄 문자)로 시작할 수 있다.\n",
    "- 특수 문자(+, -, *, /, $, @, &, % 등)는 사용할 수 없다.\n",
    "- 파이썬의 키워드(if, for, while, and, or 등)는 사용할 수 없다.  \n",
    "  \n",
    "#### 3.2 입력함수\n",
    "사용자가 입력한 값을 변수에 대입하고자 할 때 사용하는 함수로 input()함수가 있다.  \n",
    "- input()의 사용\n",
    "```python\n",
    "number = input()\n",
    "print(number)\n",
    "```  \n",
    "※ input()은 입력되는 모든 것을 문자열로 취급한다.  \n",
    "  \n",
    "  \n",
    "- 프롬프트를 띄워서 사용자 입력 받기  \n",
    "```python\n",
    "number = input(\"숫자를 입력하세요: \")\n",
    "print(number)\n",
    "```"
   ]
  },
  {
   "cell_type": "code",
   "execution_count": null,
   "metadata": {},
   "outputs": [],
   "source": []
  },
  {
   "cell_type": "markdown",
   "metadata": {},
   "source": [
    "#### 3.3 출력함수, print()함수\n",
    "- 기본출력, print(\"문자열\") \n",
    "```python\n",
    "print('Hello Python')\n",
    "print(\"Hello Python\")\n",
    "print(\"\"\"Hello Python\"\"\")\n",
    "print('''Hello Python''')\n",
    "```\n",
    "- sep 옵션 사용\n",
    "```python\n",
    "print('P', 'y', 't', 'h', 'o', 'n')\n",
    "print('P', 'y', 't', 'h', 'o', 'n', sep='')\n",
    "print('2021', '03', '09', sep='-')\n",
    "print('swcodingschool', 'gmail.com', sep='@')\n",
    "```  \n",
    "- end 옵션 사용\n",
    "출력을 할 때 끝 부분을 다음 라인과 연결시켜 주는 옵션  \n",
    "```python\n",
    "print('Welcom To')\n",
    "print('Korea IT')\n",
    "print('Academy')\n",
    "print('====')\n",
    "print('Welcom To', end=' ')\n",
    "print('Korea IT', end=' ')\n",
    "print('Academy')\n",
    "```\n",
    "- print(\"문자열\" + \"문자열\")\n",
    "- print(\"문자열\",\"문자열\")\n",
    "- print(\"문자열\" * 숫자)\n",
    "- 포맷팅 출력 : % 기호 사용, 변수값 출력\n",
    "%s : 문자열 타입의 변수 출력\n",
    "```python\n",
    "a = 'Hello'\n",
    "b = 'Korea IT'\n",
    "c = 'Academy'\n",
    "print('%s, %s, %s'%(a,b,c))\n",
    "```\n",
    "%d : 정수형 타입의 변수 출력  \n",
    "%f : 실수형 타입의 변수 출력  \n",
    "%c : 문자형character   \n",
    "%o : 8진수  \n",
    "%x : 16진수  \n",
    "%% : '%'문자  \n",
    "- 고급 포매팅 출력  \n",
    "formating 을 출력, 고도화된 문자열 출력 가능\n",
    "```python\n",
    "a = 2021\n",
    "b = 3\n",
    "c = 9\n",
    "print('안녕하세요. 오늘은 {}년 {}월 {}일입니다.'.format(a, b,c))\n",
    "# {}안에 변수 인덱스 번호를 지정할 수 도 있다.\n",
    "```\n",
    "print함수와 formating을 사용, 문장을 정렬할 수 있다.  \n",
    "```python\n",
    "print(\"{0:<10}\".format(\"Hello\"))  #왼쪽정렬\n",
    "print(\"{0:>10}\".format(\"Hello\"))  #오른쪽정렬\n",
    "print(\"{0:^10}\".format(\"Hello\"))  #가운데정렬\n",
    "print(\"{0:*<10}\".format(\"Hello\"))  #왼쪽정렬 후 공백을 *로 채우기\n",
    "```\n",
    "- print()함수, 문장 정렬\n",
    "```python\n",
    "print('Hello'.center(10))\n",
    "print('Hello'.rjust(10))\n",
    "print('Hello'.lejust(10))\n",
    "```"
   ]
  },
  {
   "cell_type": "code",
   "execution_count": null,
   "metadata": {},
   "outputs": [],
   "source": []
  },
  {
   "cell_type": "markdown",
   "metadata": {},
   "source": [
    "## 4. 자료형과 연산자\n",
    "### 4.1 Data Type 자료형\n",
    "데이터형(Data Type)은 자료형이라고도 하며, 컴퓨터에서 다루어지는 다양한 데이터 값들의 유형을 의미한다.  \n",
    "파이썬에는 정수형, 실수형, 문자열형, 부울형 등이 있다.  \n",
    "파이썬의 데이터타입은 type() 함수, 또는 isinstance() 함수를 이용하여 확인할 수 있다.  \n",
    "다음의 코드를 각각 실행해 보자.\n",
    "```python\n",
    "num1 = 10\n",
    "type(num1)\n",
    "\n",
    "num2 = 1.234\n",
    "type(num2)\n",
    "\n",
    "str1 = 'korea it academy'\n",
    "type(str1)\n",
    "\n",
    "boolean1 = True\n",
    "type(boolean1)\n",
    "\n",
    "```\n",
    "### 4.2 연산자\n",
    "- 산술연산자  \n",
    "  +, -, \\*, /(나누기), %(나머지), //(몫), **(거듭제곱)  \n",
    "- 관계연산자\n",
    "  >, <, >=, <=, ==, !=  \n",
    "- 논리연산자\n",
    "  and, or, not  \n",
    "- 비트연산자  \n",
    "  &, |, ^(배타적or, xor), ~, <<, >>\n",
    "  \n",
    "※ [파이썬 3.9 연산자](https://docs.python.org/ko/3/reference/lexical_analysis.html#operators)  \n",
    "※[함수로서의 표준 연산자](https://docs.python.org/ko/3/library/operator.html)"
   ]
  },
  {
   "cell_type": "code",
   "execution_count": null,
   "metadata": {},
   "outputs": [],
   "source": []
  }
 ],
 "metadata": {
  "kernelspec": {
   "display_name": "Python 3",
   "language": "python",
   "name": "python3"
  },
  "language_info": {
   "codemirror_mode": {
    "name": "ipython",
    "version": 3
   },
   "file_extension": ".py",
   "mimetype": "text/x-python",
   "name": "python",
   "nbconvert_exporter": "python",
   "pygments_lexer": "ipython3",
   "version": "3.9.0"
  }
 },
 "nbformat": 4,
 "nbformat_minor": 4
}
