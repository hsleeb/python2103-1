{
 "cells": [
  {
   "cell_type": "markdown",
   "metadata": {},
   "source": [
    "#### Day 02, 2021-03-09(Tue) Notes and Practices\n",
    "# 파이썬 기본 문법과 입출력\n",
    "#### 학습목표 :  파이썬 프로그램 작성 및 실행 방법\n",
    "> 1. 파이썬 프로그래밍 기초\n",
    "> 2. 파이썬의 특징, 기본문법\n",
    "> 3. 파이썬 기본 입출력 함수\n",
    "> 4. 자료형과 연산자 : 숫자형, 문자열"
   ]
  },
  {
   "cell_type": "code",
   "execution_count": null,
   "metadata": {},
   "outputs": [],
   "source": []
  }
 ],
 "metadata": {
  "kernelspec": {
   "display_name": "Python 3",
   "language": "python",
   "name": "python3"
  },
  "language_info": {
   "codemirror_mode": {
    "name": "ipython",
    "version": 3
   },
   "file_extension": ".py",
   "mimetype": "text/x-python",
   "name": "python",
   "nbconvert_exporter": "python",
   "pygments_lexer": "ipython3",
   "version": "3.9.0"
  }
 },
 "nbformat": 4,
 "nbformat_minor": 4
}
