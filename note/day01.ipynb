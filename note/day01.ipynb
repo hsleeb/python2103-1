{
 "cells": [
  {
   "cell_type": "markdown",
   "metadata": {},
   "source": [
    "# Day 01Notes and Practices"
   ]
  },
  {
   "cell_type": "markdown",
   "metadata": {},
   "source": [
    "#### 학습목표 :  개발환경 설치 실습\n",
    "> 1.  Python 설치와 제거\n",
    "> 2.  Jupyter Notebook 설치와 제거\n",
    "> 3. Github 회원가입과 설치\n",
    "> 4. Pycharm 설치와 Git 연동, 버전관리"
   ]
  },
  {
   "cell_type": "markdown",
   "metadata": {},
   "source": [
    "### 1. Python 설치와 제거"
   ]
  },
  {
   "cell_type": "code",
   "execution_count": null,
   "metadata": {},
   "outputs": [],
   "source": []
  },
  {
   "cell_type": "markdown",
   "metadata": {},
   "source": [
    "### 2. Jupyter Notebook 설치와 제거\n",
    "#### 설치\n",
    "```python\n",
    "  C:\\...>python pip install --upgrade pip\n",
    "  C:\\...>python install jupyter\n",
    "```\n",
    "#### Jupyter Notebook 기본 폴더 설정하기\n",
    "```python\n",
    "  C:\\...>jupyter notebook --generate-config\n",
    "```\n",
    "와 같이 실행 후, 생성된 ./jupyter/jupyter_notebook_config.py 파일을 편집\n",
    "> notebook_dir\n",
    "#### "
   ]
  },
  {
   "cell_type": "code",
   "execution_count": null,
   "metadata": {},
   "outputs": [],
   "source": []
  }
 ],
 "metadata": {
  "kernelspec": {
   "display_name": "Python 3",
   "language": "python",
   "name": "python3"
  },
  "language_info": {
   "codemirror_mode": {
    "name": "ipython",
    "version": 3
   },
   "file_extension": ".py",
   "mimetype": "text/x-python",
   "name": "python",
   "nbconvert_exporter": "python",
   "pygments_lexer": "ipython3",
   "version": "3.9.0"
  }
 },
 "nbformat": 4,
 "nbformat_minor": 4
}
