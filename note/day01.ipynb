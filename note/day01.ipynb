{
 "cells": [
  {
   "cell_type": "markdown",
   "metadata": {},
   "source": [
    "#### Day 01, 2021-03-08(Mon) Notes and Practices\n",
    "# 파이썬 개발환경 구성"
   ]
  },
  {
   "cell_type": "markdown",
   "metadata": {},
   "source": [
    "#### 학습목표 :  개발환경 설치 실습\n",
    "> 1.  Python 설치와 제거\n",
    "> 2.  Jupyter Notebook 설치와 제거\n",
    "> 3. Github 회원가입과 설치\n",
    "> 4. Pycharm 설치와 Git 연동, 버전관리"
   ]
  },
  {
   "cell_type": "markdown",
   "metadata": {},
   "source": [
    "### 1. Python 설치\n",
    "#### 1.1 [Python](https://www.python.org/) 사이트에서 다운로드 \n",
    "#### 1.2 설치  \n",
    "- 다운로드한 파일을 더블 클릭해서 실행한다.  \n",
    "- 첫 설치화면에서 Add Python 3.9 to PATH에 체크하는 것 필수!!  \n",
    "\n",
    "#### 1.3 실행\n",
    "- 윈도우 <시작> 버튼을 누르고 모든프로그램 > Python3.9 > IDLE 메뉴를 선택한다.\n",
    "- IDLE이 시작되면 두세 줄의 파이썬 버전 정보가 출력되고 프롬프트인 >>> 옆에 커서가 깜박인다."
   ]
  },
  {
   "cell_type": "code",
   "execution_count": null,
   "metadata": {},
   "outputs": [],
   "source": []
  },
  {
   "cell_type": "markdown",
   "metadata": {},
   "source": [
    "### 2. Jupyter Notebook 설치와 실행\n",
    "Jupyter 설치 전, python의 패키지 관리자인 pip를 업그레이드 한다. pip가 최신 버전인 상태라면 pip upgrade는 생략가능하다.  \n",
    "pip 업그레이드 후, jupyter notebook을 설치한다.\n",
    "#### 2.1 Jupyter 설치\n",
    "```python\n",
    "  C:\\...>pip install --upgrade --user pip\n",
    "  C:\\...>install jupyter  \n",
    "```  \n",
    "\n",
    "Jupyter Notebook이 설치되었으면, 기본폴더를 설정하도록 한다. 기본 폴더를 설정하지 않으면 사용자 계정의 기본 폴더에 모든 파일을 저장한다.  \n",
    "#### 2.2 Jupyter Notebook 기본 폴더 설정하기\n",
    "```python\n",
    "  C:\\...>jupyter notebook --generate-config\n",
    "```\n",
    "와 같이 실행 후, 생성된 ./jupyter/jupyter_notebook_config.py 파일을 편집\n",
    "c.NotebookApp.notebook_dir = ''\n",
    "을 찾아서 ''을 적절하게 지정한다.\n",
    "#### 2.3 Jupyter Notebook 실행\n",
    "```python\n",
    "  C:\\...>jupyter notebook\n",
    "```"
   ]
  },
  {
   "cell_type": "markdown",
   "metadata": {},
   "source": [
    "### 3. Github 회원가입과 Repository 만들기\n",
    "#### 3.1. [Github](https://github.com/) 사이트에서 SignUp\n",
    "#### 3.2. Repository 만들기"
   ]
  },
  {
   "cell_type": "code",
   "execution_count": null,
   "metadata": {},
   "outputs": [],
   "source": []
  },
  {
   "cell_type": "markdown",
   "metadata": {},
   "source": [
    "### 4. Pycharm 설치와 Git 연동\n",
    "#### 4.1 [Jetbrains.com](https://www.jetbrains.com/pycharm/) 사이트에서 community version download\n",
    "#### 4.2 설치 후, Get from VCS(Version Control System) 체크, Github 선택 후, Git 설치 과정 진행\n",
    "#### [참고자료]\n",
    "- [Pycharm 프로젝트와 Github 저장소 연동하기](https://ellun.tistory.com/280)\n",
    "- "
   ]
  },
  {
   "cell_type": "code",
   "execution_count": null,
   "metadata": {},
   "outputs": [],
   "source": []
  }
 ],
 "metadata": {
  "kernelspec": {
   "display_name": "Python 3",
   "language": "python",
   "name": "python3"
  },
  "language_info": {
   "codemirror_mode": {
    "name": "ipython",
    "version": 3
   },
   "file_extension": ".py",
   "mimetype": "text/x-python",
   "name": "python",
   "nbconvert_exporter": "python",
   "pygments_lexer": "ipython3",
   "version": "3.9.0"
  }
 },
 "nbformat": 4,
 "nbformat_minor": 4
}
