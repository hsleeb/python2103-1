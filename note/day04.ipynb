{
 "cells": [
  {
   "cell_type": "markdown",
   "metadata": {},
   "source": [
    "#### Day 04, 2021-03-15(Mon) Notes and Practices\n",
    "# 기본자료구조 / 함수\n",
    "#### 학습목표 :  파이썬 기본자료구조의 이해와 활용\n",
    "> 1. 리스트의 생성과 활용\n",
    "> 2. 튜플의 생성과 활용\n",
    "> 3. 딕셔너리의 생성과 활용\n",
    "> 4. 세트의 생성과 활용\n",
    "\n",
    "#### 학습목표 :  함수와 내장함수\n",
    "> 1. 함수 선언 및 호출\n",
    "> 2. 매개변수(기본값설정, 가변 매개변수)\n",
    "> 3. 람다\n",
    "> 4. 변수의 유효범위\n",
    "> 5. 파이썬 내장함수"
   ]
  },
  {
   "cell_type": "markdown",
   "metadata": {},
   "source": [
    "# 파이썬 기본 자료구조의 이해와 활용\n",
    "파이썬은 정수, 실수, 문자열, 부울과 같은 기본 데이터 타입 외에 기본 타입들이 결합된 리스트(list), 튜플(tuple), 딕셔너리(dictionary), 세트(set) 등의 자료구조를 제공한다.   \n",
    "파이썬이 제공하는 기본 자료구조에 대해서는 [파이썬 문서](https://docs.python.org/ko/3/tutorial/datastructures.html)를 참고할 수 있다."
   ]
  },
  {
   "cell_type": "markdown",
   "metadata": {},
   "source": [
    "## 1. 리스트(list)의 생성과 활용\n",
    "### 리스트의 생성\n",
    "리스트는 말 그대로 목록이라는 뜻이며, 여러 개의 값을 일렬로 늘어놓은 형태이다.   \n",
    "#### 리스트 만들기\n",
    "변수에 값을 저장할 때 대괄호\\[ \\]로 묵어주면 리스크가 되며 각 값은 ,(콤마)로 구분해준다.  \n",
    "리스트 = \\[값, 값, 값\\]\n",
    "예를 들어 숫자가 3개 들어 있는 리스트를 만들고 타입을 확인해보자.\n",
    "```python\n",
    "lst_a = [1, 2,3]\n",
    "print(lst_a)\n",
    "type(lst_a)\n",
    "```\n",
    "리스트에 저장된 각 값은 요소(element)라고 부른다."
   ]
  },
  {
   "cell_type": "markdown",
   "metadata": {},
   "source": [
    "#### 리스트에 여러가지 자료형 동시 저장하기\n",
    "리스트는 문자열, 정수, 실수, 불 등 모든 자료형을 혼합하여 저장할 수 있다. 리스트에 여러 가지 자료형을 사용하여 관련 정보를 하나로 묶기 좋다.\n",
    "```python\n",
    "person = ['홍길동', 19, 181.5, True]\n",
    "print(person)\n",
    "```"
   ]
  },
  {
   "cell_type": "code",
   "execution_count": null,
   "metadata": {},
   "outputs": [],
   "source": []
  },
  {
   "cell_type": "markdown",
   "metadata": {},
   "source": [
    "#### 빈 리스트 만들기\n",
    "빈 리스트를 만들 때는 \\[ \\]만 지정하거나 list()를 사용한다.  \n",
    "리스트 = \\[ \\]\n",
    "리스트 = list()\n",
    "```python\n",
    "lst_a = [];type(lst_a)\n",
    "lst_b = list();type(lst_b)\n",
    "```"
   ]
  },
  {
   "cell_type": "code",
   "execution_count": null,
   "metadata": {},
   "outputs": [],
   "source": []
  },
  {
   "cell_type": "markdown",
   "metadata": {},
   "source": [
    "#### range를 사용하여 리스트 만들기  \n",
    "range는 연속된 숫자를 생성하는데 range에 10을 지정하면 0부터 9까지 숫자를 생성한다.  \n",
    "  + range(횟수)  \n",
    "  + range(시작수, 끝수)  \n",
    "  \n",
    "```python\n",
    "range(10)\n",
    "range(0,10)\n",
    "```\n",
    "list()에 range를 넣어서 리스트를 생성할 수 있다.\n",
    "```python\n",
    "lst_a = list(range(10))\n",
    "print(lst_a)\n",
    "```"
   ]
  },
  {
   "cell_type": "code",
   "execution_count": null,
   "metadata": {},
   "outputs": [],
   "source": []
  },
  {
   "cell_type": "markdown",
   "metadata": {},
   "source": [
    "#### 리스트 액세스\n",
    "- 리스트 요소에 대한 접근\n",
    "리스트의 요소를 사용하고자 할 때는 인덱스를 사용한다.\n",
    "```python\n",
    "lst_a = list(range(10))\n",
    "print(lst_a[3])\n",
    "```\n",
    "- 슬라이싱 \n",
    "리스트의 요소에 접근할 때 콜론(:)을 사용해 범위를 지정할 수도 있다.\n",
    "```python\n",
    "lst_a = list(range(10))\n",
    "print(lst_a[3:5])\n",
    "```"
   ]
  },
  {
   "cell_type": "code",
   "execution_count": null,
   "metadata": {},
   "outputs": [],
   "source": []
  },
  {
   "cell_type": "markdown",
   "metadata": {},
   "source": [
    "\n",
    "#### 리스트 관련 함수  \n",
    "  + append() : 리스트의 맨 뒤에 항목을 추가한다. 리스트명.append(값)\n",
    "  + pop() : 리스트 맨 뒤의 항목을 삭제한다. 리스트명.pop()\n",
    "  + sort() : 리스트의 항목을 정렬한다. 리스트명.sort()\n",
    "  + reverse() : 리스트 항목의 순서를 역순으로 만든다.  리스트명.reverse()\n",
    "  + index() : 지정한 값을 찾아 해당 위치를 반환한다.  리스트명.index(찾을값)\n",
    "  + insert() : 지정한 위치에 값을 삽입한다.  리스트명.insert(위치, 값)\n",
    "  + remove() : 리스트에서 지정한 값을 삭제한다. 단, 지정한 값이 여러개면 첫 번째 값만 지운다.  리스트명.remove(지울값)\n",
    "  + extend() : 리스트 뒤에 리스트를 추가한다. 리스트의 더하기(+) 연산과 기능이 동일한다.  리스트명.extend(추가할리스트)\n",
    "  + count() : 리스트에서 해당 값의 개수를 센다.  리스트명채.count(찾을값)\n",
    "  + clear() : 리스트의 내용을 모두 지운다.  리스트명.clear()\n",
    "  + del() : 리스트에서 해당 위치의 항목을 삭제한다.  del(리스트명\\[위치\\])\n",
    "  + len() : 리스트에 포함된 전체 항목의 개수를 센다.  len(리스트명)\n",
    "  + copy() : 리스트의 내용을 새로운 리스트에 복사한다.  새리스트=리스트명.copy()\n",
    "  + sorted() : 리스트의 항목을 정렬해서 새로운 리스트에 대입한다.  새리스트=sorted(리스트)\n",
    "  "
   ]
  },
  {
   "cell_type": "code",
   "execution_count": null,
   "metadata": {},
   "outputs": [],
   "source": []
  },
  {
   "cell_type": "markdown",
   "metadata": {},
   "source": [
    "## 2. 튜플의 생성과 활용\n",
    "#### 튜플의 생성\n",
    "리스트와 사용법이 비슷하면서도 약간 다르다. 리스트는 대괄호\\[ \\]로 생성하지만 튜플은 소괄호( )로 생성한다. 튜플은 값을 수정할 수 없으며, 읽기만 가능해 읽기 전용 자료를 저장할 때 사용한다.\n",
    "```python\n",
    "#튜플명 = (값리스트)\n",
    "t1 = (1,2,3)\n",
    "print(tt1)\n",
    "```"
   ]
  },
  {
   "cell_type": "code",
   "execution_count": null,
   "metadata": {},
   "outputs": [],
   "source": []
  },
  {
   "cell_type": "markdown",
   "metadata": {},
   "source": [
    "#### 튜플의 사용\n",
    "튜플의 항목에 접근할 때 리스트처럼 '튜플명\\[위치\\]'를 사용한다.\n",
    "```python\n",
    "t1 = (1,2,3,4)\n",
    "print(t1[1])\n",
    "```\n",
    "튜플 범위에 접근하려면 리스트와 마찬가지로 콜론 : 을 사용한다."
   ]
  },
  {
   "cell_type": "code",
   "execution_count": null,
   "metadata": {},
   "outputs": [],
   "source": []
  },
  {
   "cell_type": "markdown",
   "metadata": {},
   "source": [
    "#### 튜플과 리스트의 변환\n",
    "튜플과 리스트는 서로 변환할 수 있다. 예를 들어 튜플의 항목을 변경하려면 먼저 튜플을 리스트로 변환해 항목을 변경한 후 다시 튜플로 변환하는 방법을 사용할 수 있다. list(튜플)함수는 튜플을 리스트로, tuple(리스트)함수는 리스트를 튜플로 변환해 준다.\n",
    "```python\n",
    "myTuple=(1,2,3)\n",
    "myList=list(myTuple)\n",
    "myList.append(4)\n",
    "myTuple=tuple(myList)\n",
    "print(myTuple)\n",
    "```"
   ]
  },
  {
   "cell_type": "code",
   "execution_count": null,
   "metadata": {},
   "outputs": [],
   "source": []
  },
  {
   "cell_type": "markdown",
   "metadata": {},
   "source": [
    "## 3. 딕셔너리의 생성과 활용\n",
    "딕셔너리는 영어 쌍 2개가 하나로 묶인 자료구조이다.  \n",
    "다음과 같이 중괄호 { }로 묶어 구성하며, 키Key와 값Value쌍으로 구성되어 있다.\n",
    "딕셔너리변수 = {키1:값1, 키2:값2, 키3:값3, ... }\n",
    "\n",
    "#### 딕셔너리의 생성\n",
    "```python\n",
    "dic1 = {name:'홍길동', phone:'010-1234-5678', addr:'청주시 상당구'}\n",
    "print(dic1)\n",
    "```\n",
    "#### 딕셔너리의 사용\n",
    "딕셔너리는 키를 이용해 값을 구한다.\n",
    "```python\n",
    "print(dic1[name])\n",
    "print(dic1[phone])\n",
    "print(dic1[addr])\n",
    "```\n",
    "#### 딕셔너리 관련 함수\n",
    "- 딕셔너리.get(키) : 키를 이용, 값에 접근\n",
    "- 딕셔너리.keys() : 딕셔너리의 키만을 모아 dict_keys 객체를 반환\n",
    "- 딕셔너리.values() : 딕녀너리의 값만을 모아 dict_values 객체를 반환\n",
    "- 딕셔너리.items() : key, value 쌍 얻기\n",
    "- 딕셔너리.clear() : Key:value쌍 모두 지우기\n",
    "- in : 해당 키가 딕셔너리 안에 있는지 조회. ex)'키' in 딕셔너리"
   ]
  },
  {
   "cell_type": "code",
   "execution_count": null,
   "metadata": {},
   "outputs": [],
   "source": []
  },
  {
   "cell_type": "markdown",
   "metadata": {},
   "source": [
    "## 4. 세트의 생성과 활용\n",
    "집합에 관련된 것을 쉽게 처리하기 위해 만든 자료형\n",
    "#### 집합 생성\n",
    "```python\n",
    "s1 = set('hello')\n",
    "print(s1)\n",
    "s2 = set([1,2,3])\n",
    "print(s2)\n",
    "```\n",
    "집합 자료형은 중복을 허용하지 않으며, 순서가 없다.\n",
    "#### 교집합 / 합집합 / 차집합  \n",
    "set자료형을 유용하게 사용하는 경우는 교집합, 합집합, 차집합을 구할 때이다.   \n",
    "\n",
    "```python\n",
    "s1 = set([1,2,3,4,5,6])\n",
    "s2 = set([4,5,6,7,8,9])\n",
    "\n",
    "print(s1 & s2) #s1.intersection(s2)\n",
    "print(s1 | s2) #s1.union(s2)\n",
    "print(s1 - s2) #s1.difference(s2)\n",
    "```  \n",
    "  \n",
    "#### 집합 관련 함수\n",
    "  + 집합.add() : 집합에 새로운 값 추가.\n",
    "  + 집합.update() : 집합에 여러 개의 값을 한꺼번에 추가\n",
    "  + 집합.remove() : 집합에서 특정 값을 제거"
   ]
  },
  {
   "cell_type": "markdown",
   "metadata": {},
   "source": [
    "# 함수와 내장함수"
   ]
  },
  {
   "cell_type": "markdown",
   "metadata": {},
   "source": [
    "## 1. 함수선언과 호출\n",
    "##### 함수의 정의   \n",
    "특정 작업을 수행하기 위해 독립적으로 설계된 프로그램 코드의 집합\n",
    "\n",
    "##### 함수를 사용하는 이유\n",
    "프로그램 내에서 중복적인 코드의 작성을 최소화하고, 코드의 재사용성을 높여줄 수 있다.\n",
    "\n",
    "### 함수 선언\n",
    "파이썬에서 함수는 다음과 같이 선언한다.\n",
    "```python\n",
    "def 함수명(매개변수1, ...) :\n",
    "    실행코드1\n",
    "    실행코드2\n",
    "    ...\n",
    "```\n",
    "함수명은 함수를 호출할 때 사용할 이름이며, 매개변수(parameter)는 함수 호출시 전달되는 인수의 값을 함수 내부에서 사용할 수 있도록 저장할 변수의 이름이다.\n",
    "### 함수 호출\n",
    "위와 같이 선언된 함수는 다음과 같은 방식으로 호출할 수 있다.\n",
    "```python\n",
    "함수명(인수, ...)\n",
    "```\n",
    "인수(arguments)는 함수를 호출할 때 함수에서 사용할 데이터를 전달해 주는 역할을 한다.\n",
    "\n",
    "\n",
    "### 함수 사용의 예\n",
    "```python\n",
    "def sumFunction(num1, num2):\n",
    "    print(\"{0:d} + {1:d} = {2:d}\".format(num1, num2, num1+2))\n",
    "          \n",
    "a = int(input(\"숫자 a를 입력해주세요 : \"))\n",
    "b = int(input(\"숫자 b를 입력해주세요 : \"))\n",
    "\n",
    "sumFunction(a,b)\n",
    "          \n",
    "```\n",
    "### 값을 반환(return)하는 함수\n",
    "전달받은 인수를 함수 내부에서 처리한 결과를 return문을 사용하여 반환할 수 있다. 또한 return문은 함수의 종료를 의미하며, 함수를 호출한 곳으로 해당 결과값을 반환한다.\n",
    "```python\n",
    "def 함수명(매개변수1,...):\n",
    "    실행코드1\n",
    "    실행코드2\n",
    "    ...\n",
    "    return 결과값\n",
    "\n",
    "변수명 = 함수명(인수1,...)\n",
    "```\n"
   ]
  },
  {
   "cell_type": "markdown",
   "metadata": {},
   "source": [
    "## 2. 매개변수\n",
    "### 매개변수의 기본값 설정과 인수 생략\n",
    "함수를 선언할 때 미리 매개변수의 기본값을 설정하면, 함수 호출시 전달받지 못한 인수에 대해서는 설정해 놓은 기본값으로 자동 초기화할 수 있다.\n",
    "```python\n",
    "def total(a, b=2, c=3):\n",
    "    print(a + b + c)    \n",
    "\n",
    "total(10)\n",
    "total(10, 20)\n",
    "total(10, 20, 30)\n",
    "```\n",
    "### 가변 매개변수의 사용\n",
    "매개 변수의 갯수가 정해져 있지 않은 것을 가변 매개변수라 한다. 가변 매개변수를 사용하고자 할 때는 매개변수명 앞에 \\*를 추가하여 선언한다.\n",
    "```python\n",
    "def 함수명(*매개변수명):\n",
    "    실행코드...\n",
    "```\n",
    "다음 예제는 가변 매개변수를 사용하여 더하고자 하는 숫자를 임의로 입력할 수 있다.\n",
    "```python\n",
    "def varSum(*numbers):\n",
    "    print(numbers)\n",
    "    sum = 0\n",
    "    for number in numbers:\n",
    "        sum += number\n",
    "    return sum\n",
    "\n",
    "print(varSum(1))\n",
    "print(varSum(1,2))\n",
    "print(varSum(1,2,3))\n",
    "```\n",
    "### 여러 개의 결과값 반환\n",
    "파이썬에서는 두 개 이상의 결과값을 반환할 수 있다.\n",
    "```python\n",
    "def calc(a, b):\n",
    "    add = a + b\n",
    "    sub = a - b\n",
    "    return add, sub    \n",
    "\n",
    "add, sub = calc(10, 1)\n",
    "\n",
    "print(add)\n",
    "print(sub)\n",
    "```"
   ]
  },
  {
   "cell_type": "code",
   "execution_count": null,
   "metadata": {},
   "outputs": [],
   "source": []
  },
  {
   "cell_type": "markdown",
   "metadata": {},
   "source": [
    "## 3. 람다lambda\n",
    "람다란 간단한 함수의 선언과 호출을 하나의 식으로 간략하게 표현한 것이다. 람다는 일반함수와 달리 이름을 가지지 않으며, 한 번밖에 사용할 수 없는 차이점을 갖는다.\n",
    "```python\n",
    "lambda 매개변수리스트 : 매개변수이용표현식\n",
    "```\n",
    "두 수를 입력받아 반환하는 함수를 람다식으로 표현해보자.\n",
    "```python\n",
    "def add(a, b):\n",
    "    return a+b\n",
    "print(add(1,2))\n",
    "\n",
    "print((lambda a, b:a+b)(1,2))\n",
    "```"
   ]
  },
  {
   "cell_type": "code",
   "execution_count": null,
   "metadata": {},
   "outputs": [],
   "source": []
  },
  {
   "cell_type": "markdown",
   "metadata": {},
   "source": [
    "## 4. 변수의 범위\n",
    "파이썬에서 변수는 유효범위에 따라 다음과 같이 구분한다.  \n",
    "#### 지역변수(local variable)  \n",
    "함수 내에서 선언한 변수로 일반적으로 함수 내에서만 사용가능하다.\n",
    "```python\n",
    "def func():\n",
    "    local_var = \"지역 변수\"\n",
    "    print(local_var)    \n",
    "\n",
    "func()\n",
    "#print(local_var)\n",
    "```\n",
    "\n",
    "#### 전역변수(global variable) \n",
    "```python\n",
    "def func():\n",
    "    global global_var\n",
    "    local_var = \"지역 변수\"\n",
    "    print(local_var)\n",
    "    print(global_var)    \n",
    "\n",
    "global_var = \"전역 변수\"\n",
    "func()\n",
    "print(global_var)\n",
    "```"
   ]
  },
  {
   "cell_type": "code",
   "execution_count": null,
   "metadata": {},
   "outputs": [],
   "source": []
  },
  {
   "cell_type": "markdown",
   "metadata": {},
   "source": [
    "## 5. 파이썬 내장함수\n",
    "파이썬 인터프리터에는 항상 사용할 수 있는 많은 함수와 타입이 내장되어 있다.   \n",
    "내장함수의 상세한 내용은 [파이썬 문서 중 내장함수](https://docs.python.org/ko/3/library/functions.html) 부분을 확인해보자."
   ]
  },
  {
   "cell_type": "code",
   "execution_count": null,
   "metadata": {},
   "outputs": [],
   "source": []
  }
 ],
 "metadata": {
  "kernelspec": {
   "display_name": "Python 3",
   "language": "python",
   "name": "python3"
  },
  "language_info": {
   "codemirror_mode": {
    "name": "ipython",
    "version": 3
   },
   "file_extension": ".py",
   "mimetype": "text/x-python",
   "name": "python",
   "nbconvert_exporter": "python",
   "pygments_lexer": "ipython3",
   "version": "3.9.0"
  }
 },
 "nbformat": 4,
 "nbformat_minor": 4
}
